{
 "cells": [
  {
   "cell_type": "markdown",
   "id": "4ecb6083",
   "metadata": {},
   "source": [
    "# 1."
   ]
  },
  {
   "cell_type": "code",
   "execution_count": 1,
   "id": "7c6bd1d5",
   "metadata": {},
   "outputs": [
    {
     "name": "stdout",
     "output_type": "stream",
     "text": [
      "iNeuron\n"
     ]
    }
   ],
   "source": [
    "# code(result):\n",
    "X = 'iNeuron'\n",
    "\n",
    "def func():\n",
    "    print(X)\n",
    "\n",
    "func()  # Call the function to print the value of X"
   ]
  },
  {
   "cell_type": "code",
   "execution_count": 2,
   "id": "dcfce88e",
   "metadata": {},
   "outputs": [],
   "source": [
    "# explaination:\n",
    "\n",
    "# a) The code defines a variable X with the value 'iNeuron' and a function func that prints the value of X. However, the function\n",
    "#     func is not called in the code snippet provided.\n",
    "# b) If we call the func() function after defining it, it will print the value of X, which is 'iNeuron'. "
   ]
  },
  {
   "cell_type": "markdown",
   "id": "8e626884",
   "metadata": {},
   "source": [
    "# 2."
   ]
  },
  {
   "cell_type": "code",
   "execution_count": 5,
   "id": "b6a3e36b",
   "metadata": {},
   "outputs": [
    {
     "name": "stdout",
     "output_type": "stream",
     "text": [
      "iNeuron\n"
     ]
    }
   ],
   "source": [
    "# code(result):\n",
    "X = 'iNeuron'\n",
    "def func():\n",
    "    X = 'NI!'\n",
    "\n",
    "func()\n",
    "print(X)"
   ]
  },
  {
   "cell_type": "code",
   "execution_count": 6,
   "id": "db8b3320",
   "metadata": {},
   "outputs": [],
   "source": [
    "#explaination:\n",
    "# i) X = 'iNeuron': This line defines a global variable X with the value 'iNeuron'.\n",
    "# ii) def func(): X = 'NI!': This line defines a function func that creates a local variable X with the value 'NI!'. This local \n",
    "#     variable X shadows the global variable X within the function's scope.\n",
    "# iii) func(): Calling the func function modifies the local variable X within the function but doesn't affect the global variable X.\n",
    "# iv) print(X): After the function call, this line prints the value of the global variable X, which remains 'iNeuron'."
   ]
  },
  {
   "cell_type": "markdown",
   "id": "2838f523",
   "metadata": {},
   "source": [
    "# 3."
   ]
  },
  {
   "cell_type": "code",
   "execution_count": 10,
   "id": "8fb0e95c",
   "metadata": {},
   "outputs": [
    {
     "name": "stdout",
     "output_type": "stream",
     "text": [
      "NI!\n",
      "iNeuron\n"
     ]
    }
   ],
   "source": [
    "# code(result):\n",
    "X = 'iNeuron'\n",
    "def func():\n",
    "    X = 'NI!'\n",
    "    print(X)\n",
    "\n",
    "func()\n",
    "print(X)"
   ]
  },
  {
   "cell_type": "code",
   "execution_count": 11,
   "id": "b09dba3d",
   "metadata": {},
   "outputs": [],
   "source": [
    "# # explaination:\n",
    "# i) X = 'iNeuron': This line defines a global variable X with the value 'iNeuron'.\n",
    "# ii) def func(): X = 'NI': This line defines a function func that creates a local variable X with the value 'NI'. This local \n",
    "#     variable X shadows the global variable X within the function's scope.\n",
    "# iii) print(X): Inside the function func, this line prints the value of the local variable X, which is 'NI'.\n",
    "# iv) func(): Calling the func function executes its code and prints 'NI'.\n",
    "# v) print(X): After the function call, this line prints the value of the global variable X, which remains 'iNeuron'."
   ]
  },
  {
   "cell_type": "markdown",
   "id": "7a17d67d",
   "metadata": {},
   "source": [
    "# 4."
   ]
  },
  {
   "cell_type": "code",
   "execution_count": 12,
   "id": "852ccd5a",
   "metadata": {},
   "outputs": [
    {
     "name": "stdout",
     "output_type": "stream",
     "text": [
      "NI!\n"
     ]
    }
   ],
   "source": [
    "# code(result):\n",
    "X = 'iNeuron'\n",
    "def func():\n",
    "    global X\n",
    "    X = 'NI!'\n",
    "\n",
    "func()\n",
    "print(X)"
   ]
  },
  {
   "cell_type": "code",
   "execution_count": 13,
   "id": "2beb1a54",
   "metadata": {},
   "outputs": [],
   "source": [
    "# explanation:\n",
    "# i) X = 'iNeuron': This line defines a global variable X with the initial value 'iNeuron'.\n",
    "# ii) def func(): global X; X = 'NI': This line defines a function func and uses the global keyword to declare that the \n",
    "#     function will modify the global variable X. Inside the function, it assigns the value 'NI' to the global variable X.\n",
    "# iii) func(): Calling the func function executes its code, which modifies the global variable X to 'NI'.\n",
    "# iv) print(X): This line prints the value of the global variable X, which has been modified inside the func function."
   ]
  },
  {
   "cell_type": "markdown",
   "id": "5605956e",
   "metadata": {},
   "source": [
    "# 5."
   ]
  },
  {
   "cell_type": "code",
   "execution_count": 14,
   "id": "42c207c4",
   "metadata": {},
   "outputs": [
    {
     "data": {
      "text/plain": [
       "'iNeuron'"
      ]
     },
     "execution_count": 14,
     "metadata": {},
     "output_type": "execute_result"
    }
   ],
   "source": [
    "# code(result):\n",
    "X = 'iNeuron'\n",
    "def func():\n",
    "    X = 'NI!'\n",
    "def nested():\n",
    "    print(X)\n",
    "    nested()\n",
    "\n",
    "func()\n",
    "X"
   ]
  },
  {
   "cell_type": "code",
   "execution_count": 15,
   "id": "fbab2ade",
   "metadata": {},
   "outputs": [],
   "source": [
    "# explanation:\n",
    "# i) X = 'iNeuron': This line defines a global variable X with the value 'iNeuron'.\n",
    "# ii) def func(): X = 'NI': This line defines a function func, which defines a local variable X with the value 'NI' inside \n",
    "#     its scope.\n",
    "# iii) def nested(): print(X): This line defines a nested function nested that prints the value of X from the enclosing scope \n",
    "#     (in this case, the global scope because X is not defined locally in nested).\n",
    "# iv) nested(): Calling nested() inside func() prints the value of X from the enclosing scope, which is the global variable X\n",
    "#     with the value 'iNeuron'."
   ]
  },
  {
   "cell_type": "markdown",
   "id": "34580b45",
   "metadata": {},
   "source": [
    "# 6."
   ]
  },
  {
   "cell_type": "code",
   "execution_count": 17,
   "id": "884bb245",
   "metadata": {},
   "outputs": [
    {
     "name": "stdout",
     "output_type": "stream",
     "text": [
      "Spam\n"
     ]
    }
   ],
   "source": [
    "# code(result):\n",
    "def func():\n",
    "    X = 'NI'\n",
    "    def nested():\n",
    "        nonlocal X\n",
    "        X = 'Spam'\n",
    "    nested()\n",
    "    print(X)\n",
    "\n",
    "func()"
   ]
  },
  {
   "cell_type": "code",
   "execution_count": 18,
   "id": "6ba9dc8a",
   "metadata": {},
   "outputs": [],
   "source": [
    "# explaination:\n",
    "# i) The func() function defines a local variable X with the value 'NI'.\n",
    "# ii) The nested() function is nested inside func(), and it uses nonlocal X to indicate that it wants to modify the X variable \n",
    "#     from the enclosing scope (func()).\n",
    "# iii) Inside nested(), X is changed to 'Spam'.\n",
    "# iv) When nested() is called within func(), it modifies X to 'Spam'.\n",
    "# v) Finally, func() prints the value of X, which is 'Spam'."
   ]
  },
  {
   "cell_type": "code",
   "execution_count": null,
   "id": "d45d5591",
   "metadata": {},
   "outputs": [],
   "source": []
  }
 ],
 "metadata": {
  "kernelspec": {
   "display_name": "Python 3 (ipykernel)",
   "language": "python",
   "name": "python3"
  },
  "language_info": {
   "codemirror_mode": {
    "name": "ipython",
    "version": 3
   },
   "file_extension": ".py",
   "mimetype": "text/x-python",
   "name": "python",
   "nbconvert_exporter": "python",
   "pygments_lexer": "ipython3",
   "version": "3.11.5"
  }
 },
 "nbformat": 4,
 "nbformat_minor": 5
}
